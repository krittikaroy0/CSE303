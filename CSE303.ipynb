{
  "cells": [
    {
      "cell_type": "markdown",
      "metadata": {
        "id": "view-in-github",
        "colab_type": "text"
      },
      "source": [
        "<a href=\"https://colab.research.google.com/github/krittikaroy0/CSE303/blob/main/CSE303.ipynb\" target=\"_parent\"><img src=\"https://colab.research.google.com/assets/colab-badge.svg\" alt=\"Open In Colab\"/></a>"
      ]
    },
    {
      "cell_type": "code",
      "source": [
        "print(\"hello , CSE303!\")"
      ],
      "metadata": {
        "colab": {
          "base_uri": "https://localhost:8080/"
        },
        "id": "a6BRZuUXets0",
        "outputId": "65339752-66c2-49ef-ba4b-9f8bf4b6a876"
      },
      "execution_count": null,
      "outputs": [
        {
          "output_type": "stream",
          "name": "stdout",
          "text": [
            "hello , CSE303!\n"
          ]
        }
      ]
    },
    {
      "cell_type": "code",
      "source": [],
      "metadata": {
        "id": "oWCDsJsm5XsG"
      },
      "execution_count": null,
      "outputs": []
    },
    {
      "cell_type": "code",
      "source": [
        "x = 7 \n",
        "print(x)"
      ],
      "metadata": {
        "colab": {
          "base_uri": "https://localhost:8080/"
        },
        "id": "ivrOCYN0h4vw",
        "outputId": "ad93b7cf-93c0-4868-f638-692a27758abc"
      },
      "execution_count": null,
      "outputs": [
        {
          "output_type": "stream",
          "name": "stdout",
          "text": [
            "7\n"
          ]
        }
      ]
    },
    {
      "cell_type": "code",
      "source": [
        "x = 0.9 \n",
        "print(x)"
      ],
      "metadata": {
        "colab": {
          "base_uri": "https://localhost:8080/"
        },
        "id": "u8l48e5Qh9ti",
        "outputId": "967f69ab-a1c0-4ef4-e8e2-43676bc8d189"
      },
      "execution_count": null,
      "outputs": [
        {
          "output_type": "stream",
          "name": "stdout",
          "text": [
            "0.9\n"
          ]
        }
      ]
    },
    {
      "cell_type": "code",
      "source": [
        "x = float(33)\n",
        "print(x)"
      ],
      "metadata": {
        "colab": {
          "base_uri": "https://localhost:8080/"
        },
        "id": "HAe-R0i_iSQP",
        "outputId": "44da8ecd-dc6e-48b9-a20b-211575e6f91e"
      },
      "execution_count": null,
      "outputs": [
        {
          "output_type": "stream",
          "name": "stdout",
          "text": [
            "33.0\n"
          ]
        }
      ]
    },
    {
      "cell_type": "code",
      "source": [
        "x = 56\n",
        "if x >= 11:\n",
        "   print(\" hi\")\n",
        "else:\n",
        "    print(\"bye\")"
      ],
      "metadata": {
        "colab": {
          "base_uri": "https://localhost:8080/"
        },
        "id": "8hqXVrIqiaX8",
        "outputId": "708320ee-12ed-46bd-a8ec-d8ff551a2211"
      },
      "execution_count": null,
      "outputs": [
        {
          "output_type": "stream",
          "name": "stdout",
          "text": [
            " hi\n"
          ]
        }
      ]
    },
    {
      "cell_type": "code",
      "source": [
        "one = 1\n",
        "two = 2\n",
        "three =  one ** two\n",
        "print(three )"
      ],
      "metadata": {
        "colab": {
          "base_uri": "https://localhost:8080/"
        },
        "id": "YGrf0RZZ5fLv",
        "outputId": "d5c5f9e7-cb8c-43e9-d9af-e60a3b8788ff"
      },
      "execution_count": 12,
      "outputs": [
        {
          "output_type": "stream",
          "name": "stdout",
          "text": [
            "1\n"
          ]
        }
      ]
    },
    {
      "cell_type": "code",
      "source": [
        "one = \" hi\"\n",
        "two = \"bye\"\n",
        "print(one + \" \"+ two)"
      ],
      "metadata": {
        "id": "QqF7AhVP7JC_",
        "outputId": "31707083-1b00-4e3f-d4ba-6cf298a440cc",
        "colab": {
          "base_uri": "https://localhost:8080/"
        }
      },
      "execution_count": 9,
      "outputs": [
        {
          "output_type": "stream",
          "name": "stdout",
          "text": [
            " hi bye\n"
          ]
        }
      ]
    },
    {
      "cell_type": "code",
      "source": [
        " a, b = 3, 4\n",
        " print(a,b)"
      ],
      "metadata": {
        "id": "sScyhiHW9WSv",
        "outputId": "60584063-a887-427a-a89a-fb7b0d8f1a1b",
        "colab": {
          "base_uri": "https://localhost:8080/"
        }
      },
      "execution_count": 13,
      "outputs": [
        {
          "output_type": "stream",
          "name": "stdout",
          "text": [
            "3 4\n"
          ]
        }
      ]
    },
    {
      "cell_type": "code",
      "source": [
        "one = 1\n",
        "two = 2\n",
        "hello = \"hello\"\n",
        "print(one + two , hello)"
      ],
      "metadata": {
        "id": "Ju2D8ngM9gEs",
        "outputId": "0f7b052b-7cc0-4e90-e6b1-790bcf2ec858",
        "colab": {
          "base_uri": "https://localhost:8080/"
        }
      },
      "execution_count": 15,
      "outputs": [
        {
          "output_type": "stream",
          "name": "stdout",
          "text": [
            "3 hello\n"
          ]
        }
      ]
    },
    {
      "cell_type": "code",
      "source": [
        "mystring = hello\n",
        "myfloat = 10.0\n",
        "myint = 20\n",
        "if mystring == 'hello':\n",
        "   print(\"String = %s\" %mystring)\n",
        "if isinstance(myfloat, float) and myfloat == 10.0:\n",
        "    print(\"Float: %.1f\" % myfloat)\n",
        "if isinstance(myint , int) and myint == 20:\n",
        "  print(\"INT: %d\" % myint)"
      ],
      "metadata": {
        "id": "f3qP_70qB6XC",
        "outputId": "41e1adcf-779d-4db5-db18-d78c6303da92",
        "colab": {
          "base_uri": "https://localhost:8080/"
        }
      },
      "execution_count": 24,
      "outputs": [
        {
          "output_type": "stream",
          "name": "stdout",
          "text": [
            "String = hello\n",
            "Float: 10.0\n",
            "INT: 20\n"
          ]
        }
      ]
    },
    {
      "cell_type": "code",
      "source": [
        "print(\" id is 5 =\",id(5))\n",
        "a = 5\n",
        "print(\" id is a =\",id(a))\n",
        "b = a\n",
        "print(\" id is b =\",id(b))\n",
        "c= 5.0\n",
        "print(\" id is c =\",id(5.0))\n"
      ],
      "metadata": {
        "id": "Xluydt5CEOIJ",
        "outputId": "82f22610-786e-471a-ef70-4d21679271b8",
        "colab": {
          "base_uri": "https://localhost:8080/"
        }
      },
      "execution_count": 25,
      "outputs": [
        {
          "output_type": "stream",
          "name": "stdout",
          "text": [
            " id is 5 = 9793216\n",
            " id is a = 9793216\n",
            " id is b = 9793216\n",
            " id is c = 139664385925296\n"
          ]
        }
      ]
    },
    {
      "cell_type": "code",
      "source": [
        "mystring = \"Hi\"\n",
        "myfloat = 10.2\n",
        "myint = 30\n",
        "\n",
        "type(mystring)\n",
        "type(myfloat)\n",
        "type(myint)\n",
        "\n",
        "isinstance(myint, int)"
      ],
      "metadata": {
        "id": "U4jyuQC4HOMh",
        "outputId": "478435a3-a121-43c6-c376-319e1914c3e2",
        "colab": {
          "base_uri": "https://localhost:8080/"
        }
      },
      "execution_count": 31,
      "outputs": [
        {
          "output_type": "execute_result",
          "data": {
            "text/plain": [
              "False"
            ]
          },
          "metadata": {},
          "execution_count": 31
        }
      ]
    }
  ],
  "metadata": {
    "colab": {
      "provenance": [],
      "mount_file_id": "1INIYQS19zkIbHsCzLsJNWClsXvnd1N-b",
      "authorship_tag": "ABX9TyPc4U9RQZn/akSlBYb6BgfJ",
      "include_colab_link": true
    },
    "kernelspec": {
      "display_name": "Python 3",
      "name": "python3"
    },
    "language_info": {
      "name": "python"
    }
  },
  "nbformat": 4,
  "nbformat_minor": 0
}