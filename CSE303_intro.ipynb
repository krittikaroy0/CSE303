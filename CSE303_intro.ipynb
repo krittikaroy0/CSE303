{
  "nbformat": 4,
  "nbformat_minor": 0,
  "metadata": {
    "colab": {
      "provenance": [],
      "collapsed_sections": [],
      "authorship_tag": "ABX9TyMcpc8pzAHKEC64e72fwG6j",
      "include_colab_link": true
    },
    "kernelspec": {
      "name": "python3",
      "display_name": "Python 3"
    },
    "language_info": {
      "name": "python"
    }
  },
  "cells": [
    {
      "cell_type": "markdown",
      "metadata": {
        "id": "view-in-github",
        "colab_type": "text"
      },
      "source": [
        "<a href=\"https://colab.research.google.com/github/manzur-au/CSE303/blob/main/CSE303_intro.ipynb\" target=\"_parent\"><img src=\"https://colab.research.google.com/assets/colab-badge.svg\" alt=\"Open In Colab\"/></a>"
      ]
    },
    {
      "cell_type": "markdown",
      "source": [
        "# **Introduction to Python Programming**\n",
        "\n",
        "\n",
        "---\n",
        "\n",
        "*   General purpose programming language, you can build anything!\n",
        "*   Open Source. Free to use.\n",
        "*   Lots of Python packages\n",
        "*   Current Version: Python 3.x\n",
        "*   Indentation is important using tabs or spaces!"
      ],
      "metadata": {
        "id": "qqVBuQZQvIZj"
      }
    },
    {
      "cell_type": "markdown",
      "source": [
        "# Hello world!"
      ],
      "metadata": {
        "id": "CpKuWh4cHHCF"
      }
    },
    {
      "cell_type": "markdown",
      "source": [
        "**Print**\n",
        "\n",
        "Lets print a simple lines"
      ],
      "metadata": {
        "id": "oUJr_fUpHMMC"
      }
    },
    {
      "cell_type": "code",
      "execution_count": 1,
      "metadata": {
        "colab": {
          "base_uri": "https://localhost:8080/"
        },
        "id": "4Egv_h9Oumto",
        "outputId": "2fad1d52-3268-43e4-8677-43614088adf7"
      },
      "outputs": [
        {
          "output_type": "stream",
          "name": "stdout",
          "text": [
            "Hello, CSE303!\n"
          ]
        }
      ],
      "source": [
        "print(\"Hello, CSE303!\")"
      ]
    },
    {
      "cell_type": "markdown",
      "source": [
        "**Indentation**\n",
        "\n",
        "Python uses indentation for blocks, instead of curly braces. Both tabs and spaces are supported, but the standard indentation requires standard Python code to use four spaces. For example:"
      ],
      "metadata": {
        "id": "tqtqr_OzGsHp"
      }
    },
    {
      "cell_type": "code",
      "source": [
        "x = 1\n",
        "if x == 1:\n",
        "    # indented four spaces\n",
        "    print(\"x is 1.\")"
      ],
      "metadata": {
        "colab": {
          "base_uri": "https://localhost:8080/"
        },
        "id": "ycxZaCHfvMuZ",
        "outputId": "9727d43d-a55d-492b-9e02-6fb6e60b1f83"
      },
      "execution_count": 4,
      "outputs": [
        {
          "output_type": "stream",
          "name": "stdout",
          "text": [
            "x is 1.\n"
          ]
        }
      ]
    },
    {
      "cell_type": "markdown",
      "source": [
        "# Variables and Types\n"
      ],
      "metadata": {
        "id": "l850oefFG_BE"
      }
    },
    {
      "cell_type": "markdown",
      "source": [
        "*   Python is completely object oriented, and not \"statically typed\".\n",
        "*   You do not need to declare variables before using them, or declare their type.\n",
        "*   Every variable in Python is an object."
      ],
      "metadata": {
        "id": "PHskpJ-mHWIs"
      }
    },
    {
      "cell_type": "markdown",
      "source": [
        "**Numbers**\n",
        "\n",
        "Python supports two types of numbers - integers(whole numbers) and floating point numbers(decimals). (It also supports complex numbers, which will not be explained now).\n",
        "\n",
        "To define an integer, use the following syntax:"
      ],
      "metadata": {
        "id": "oSa5U7ZmH9Eo"
      }
    },
    {
      "cell_type": "code",
      "source": [
        "myint = 7\n",
        "print(myint)"
      ],
      "metadata": {
        "colab": {
          "base_uri": "https://localhost:8080/"
        },
        "id": "DyPnJSDuHyRx",
        "outputId": "63c1c79f-0f78-4fd8-9c48-b90fd758bec6"
      },
      "execution_count": 5,
      "outputs": [
        {
          "output_type": "stream",
          "name": "stdout",
          "text": [
            "7\n"
          ]
        }
      ]
    },
    {
      "cell_type": "markdown",
      "source": [
        "To define a floating point number, you may use one of the following notations:"
      ],
      "metadata": {
        "id": "8E84H734IJdv"
      }
    },
    {
      "cell_type": "code",
      "source": [
        "myfloat = 7.0\n",
        "print(myfloat)\n",
        "myfloat = float(7)\n",
        "print(myfloat)"
      ],
      "metadata": {
        "colab": {
          "base_uri": "https://localhost:8080/"
        },
        "id": "D25s4xuNIKWo",
        "outputId": "9f8ebf91-0e47-4a21-90db-1dd43b31840e"
      },
      "execution_count": 6,
      "outputs": [
        {
          "output_type": "stream",
          "name": "stdout",
          "text": [
            "7.0\n",
            "7.0\n"
          ]
        }
      ]
    },
    {
      "cell_type": "markdown",
      "source": [
        "**Strings**\n",
        "\n",
        "Strings are defined either with a single quote or a double quotes."
      ],
      "metadata": {
        "id": "HLFhxNofIUp_"
      }
    },
    {
      "cell_type": "code",
      "source": [
        "mystring = 'hello'\n",
        "print(mystring)\n",
        "mystring = \"hello\"\n",
        "print(mystring)"
      ],
      "metadata": {
        "colab": {
          "base_uri": "https://localhost:8080/"
        },
        "id": "Dp2rDRlIIbiX",
        "outputId": "821bbe09-e5e5-422d-dc04-37b2bf2ad8ab"
      },
      "execution_count": 7,
      "outputs": [
        {
          "output_type": "stream",
          "name": "stdout",
          "text": [
            "hello\n",
            "hello\n"
          ]
        }
      ]
    },
    {
      "cell_type": "markdown",
      "source": [
        "The difference between the two is that using double quotes makes it easy to include apostrophes (whereas these would terminate the string if using single quotes)"
      ],
      "metadata": {
        "id": "OWisN8WsItNx"
      }
    },
    {
      "cell_type": "code",
      "source": [
        "mystring = \"Don't worry about apostrophes\"\n",
        "print(mystring)"
      ],
      "metadata": {
        "colab": {
          "base_uri": "https://localhost:8080/"
        },
        "id": "B__Gm1NFIvvU",
        "outputId": "2faaae17-0bc9-4119-d4be-f70f62f5e991"
      },
      "execution_count": 8,
      "outputs": [
        {
          "output_type": "stream",
          "name": "stdout",
          "text": [
            "Don't worry about apostrophes\n"
          ]
        }
      ]
    },
    {
      "cell_type": "markdown",
      "source": [
        "# Operators\n",
        "\n",
        "Lets have a loot at operators used in python"
      ],
      "metadata": {
        "id": "eFVq0chBJWkg"
      }
    },
    {
      "cell_type": "markdown",
      "source": [
        "**Arithmetic Operators**\n",
        "\n",
        "*   ' + '\tAdd two operands or unary plus\tx + y+ 2\n",
        "*   ' - '\tSubtract right operand from the left or unary minus\tx - y- 2\n",
        "*   ' * '\tMultiply two operands\tx * y\n",
        "*   ' / '\tDivide left operand by the right one (always results into float)\tx / y\n",
        "*   ' % '\tModulus - remainder of the division of left operand by the right\tx % y (remainder of x/y)\n",
        "*   ' // '\tFloor division - division that results into whole number adjusted to the left in the number line\tx // y\n",
        "*   ' ** '\tExponent - left operand raised to the power of right\tx**y (x to the power y)"
      ],
      "metadata": {
        "id": "v52iOe9kJkjg"
      }
    },
    {
      "cell_type": "code",
      "source": [
        "# Do your own practise"
      ],
      "metadata": {
        "id": "JMxAuNgnJNhj"
      },
      "execution_count": null,
      "outputs": []
    },
    {
      "cell_type": "code",
      "source": [
        "# Simple operators can be executed on numbers and strings\n",
        "one = 1\n",
        "two = 2\n",
        "three = one + two\n",
        "print(three)\n",
        "\n",
        "hello = \"hello\"\n",
        "world = \"world\"\n",
        "helloworld = hello + \" \" + world\n",
        "print(helloworld)"
      ],
      "metadata": {
        "colab": {
          "base_uri": "https://localhost:8080/"
        },
        "id": "2UwfSDcAKx8d",
        "outputId": "9f326a07-a487-4dc8-a65f-086584263d2b"
      },
      "execution_count": 9,
      "outputs": [
        {
          "output_type": "stream",
          "name": "stdout",
          "text": [
            "3\n",
            "hello world\n"
          ]
        }
      ]
    },
    {
      "cell_type": "code",
      "source": [
        "# Assignments can be done on more than one variable \"simultaneously\" on the same line like this\n",
        "\n",
        "a, b = 3, 4\n",
        "print(a, b)"
      ],
      "metadata": {
        "colab": {
          "base_uri": "https://localhost:8080/"
        },
        "id": "yVKjFHWnLC4U",
        "outputId": "958b4e07-bd3f-4300-e089-58ef657483ee"
      },
      "execution_count": 10,
      "outputs": [
        {
          "output_type": "stream",
          "name": "stdout",
          "text": [
            "3 4\n"
          ]
        }
      ]
    },
    {
      "cell_type": "code",
      "source": [
        "# Mixing operators between numbers and strings is not supported\n",
        "\n",
        "# This will not work!\n",
        "one = 1\n",
        "two = 2\n",
        "hello = \"hello\"\n",
        "\n",
        "print(one + two + hello)"
      ],
      "metadata": {
        "colab": {
          "base_uri": "https://localhost:8080/",
          "height": 204
        },
        "id": "qd9owXiJLKSb",
        "outputId": "f6a75188-ff33-4cb9-9487-75960a19af68"
      },
      "execution_count": 11,
      "outputs": [
        {
          "output_type": "error",
          "ename": "TypeError",
          "evalue": "ignored",
          "traceback": [
            "\u001b[0;31m---------------------------------------------------------------------------\u001b[0m",
            "\u001b[0;31mTypeError\u001b[0m                                 Traceback (most recent call last)",
            "\u001b[0;32m<ipython-input-11-688a7309f3a2>\u001b[0m in \u001b[0;36m<module>\u001b[0;34m\u001b[0m\n\u001b[1;32m      6\u001b[0m \u001b[0mhello\u001b[0m \u001b[0;34m=\u001b[0m \u001b[0;34m\"hello\"\u001b[0m\u001b[0;34m\u001b[0m\u001b[0;34m\u001b[0m\u001b[0m\n\u001b[1;32m      7\u001b[0m \u001b[0;34m\u001b[0m\u001b[0m\n\u001b[0;32m----> 8\u001b[0;31m \u001b[0mprint\u001b[0m\u001b[0;34m(\u001b[0m\u001b[0mone\u001b[0m \u001b[0;34m+\u001b[0m \u001b[0mtwo\u001b[0m \u001b[0;34m+\u001b[0m \u001b[0mhello\u001b[0m\u001b[0;34m)\u001b[0m\u001b[0;34m\u001b[0m\u001b[0;34m\u001b[0m\u001b[0m\n\u001b[0m",
            "\u001b[0;31mTypeError\u001b[0m: unsupported operand type(s) for +: 'int' and 'str'"
          ]
        }
      ]
    },
    {
      "cell_type": "markdown",
      "source": [
        "# Comparison / relational operators:\n",
        "\n",
        "`>, <, >=, <=, ==, !=`\n",
        "\n",
        "# Logical Operators\n",
        "\n",
        "`and, or, not`"
      ],
      "metadata": {
        "id": "koSIE2suOCyh"
      }
    },
    {
      "cell_type": "markdown",
      "source": [
        "**Exercise**\n",
        "\n",
        "The target of this exercise is to create a string, an integer, and a floating point number. The string should be named mystring and should contain the word \"hello\". The floating point number should be named myfloat and should contain the number 10.0, and the integer should be named myint and should contain the number 20."
      ],
      "metadata": {
        "id": "6E0oFJq2LfIA"
      }
    },
    {
      "cell_type": "code",
      "source": [
        "# change this code\n",
        "mystring = None\n",
        "myfloat = None\n",
        "myint = None\n",
        "\n",
        "# testing code\n",
        "if mystring == \"hello\":\n",
        "    print(\"String: %s\" % mystring)\n",
        "if isinstance(myfloat, float) and myfloat == 10.0:\n",
        "    print(\"Float: %f\" % myfloat)\n",
        "if isinstance(myint, int) and myint == 20:\n",
        "    print(\"Integer: %d\" % myint)"
      ],
      "metadata": {
        "id": "uChrYDT1LlEF"
      },
      "execution_count": 12,
      "outputs": []
    },
    {
      "cell_type": "markdown",
      "source": [
        "**Few useful functions** \n",
        "\n",
        "id(object_name), type(object_name), isinstance(object_name, type_name)"
      ],
      "metadata": {
        "id": "QS0bo19OL3Qv"
      }
    },
    {
      "cell_type": "code",
      "source": [
        "# id of 5\n",
        "print(\"id of 5 =\", id(5))\n",
        "\n",
        "a = 5\n",
        "\n",
        "# id of a\n",
        "print(\"id of a =\", id(a))\n",
        "\n",
        "b = a\n",
        "\n",
        "# id of b\n",
        "print(\"id of b =\", id(b))\n",
        "\n",
        "c = 5.0\n",
        "\n",
        "# id of c\n",
        "print(\"id of c =\", id(c))"
      ],
      "metadata": {
        "colab": {
          "base_uri": "https://localhost:8080/"
        },
        "id": "1I8guEveNNsO",
        "outputId": "d17d8594-e714-47e7-a03f-b97ad318fcd2"
      },
      "execution_count": 17,
      "outputs": [
        {
          "output_type": "stream",
          "name": "stdout",
          "text": [
            "id of 5 = 11122720\n",
            "id of a = 11122720\n",
            "id of b = 11122720\n",
            "id of c = 140343465288240\n"
          ]
        }
      ]
    },
    {
      "cell_type": "code",
      "source": [
        "mystring = \"Hi\"\n",
        "myfloat = 10.2\n",
        "myint = 30\n",
        "\n",
        "# type(mystring)\n",
        "# type(myfloat)\n",
        "# type(myint)\n",
        "\n",
        "# isinstance(myint, int)\n",
        "\n"
      ],
      "metadata": {
        "colab": {
          "base_uri": "https://localhost:8080/"
        },
        "id": "K3xDnE8hL8sK",
        "outputId": "8b810dec-90c3-473b-da7d-d4be6e2d5813"
      },
      "execution_count": 16,
      "outputs": [
        {
          "output_type": "execute_result",
          "data": {
            "text/plain": [
              "True"
            ]
          },
          "metadata": {},
          "execution_count": 16
        }
      ]
    },
    {
      "cell_type": "markdown",
      "source": [
        "# Mutabale objects: List\n",
        "\n",
        "\n",
        "Lists are very similar to arrays. They can contain any type of variable, and they can contain as many variables as you wish.\n",
        "\n",
        "* Python List append(): Add a single element to the end of the list\n",
        "* Python List clear(): Removes all Items from the List\n",
        "* Python List copy(): returns a shallow copy of the list\n",
        "* Python List count(): returns count of the element in the list\n",
        "* Python List extend(): adds iterable elements to the end of the list\n",
        "* Python List index(): returns the index of the element in the list\n",
        "* Python List insert(): insert an element to the list\n",
        "* Python List pop(): Removes element at the given index\n",
        "* Python List remove(): Removes item from the list\n",
        "* Python List reverse(): reverses the list\n",
        "* Python List sort(): sorts elements of a list"
      ],
      "metadata": {
        "id": "68LyAzs8NbOj"
      }
    },
    {
      "cell_type": "code",
      "source": [
        "mylist = []\n",
        "mylist.append(1)\n",
        "mylist.append(2)\n",
        "mylist.append(3)\n",
        "print(mylist[0]) # prints 1\n",
        "print(mylist[1]) # prints 2\n",
        "print(mylist[2]) # prints 3\n"
      ],
      "metadata": {
        "colab": {
          "base_uri": "https://localhost:8080/"
        },
        "id": "6iofxuBFOYXw",
        "outputId": "5e4fc8e6-4798-472a-f262-ebbf9b8d4a9e"
      },
      "execution_count": 36,
      "outputs": [
        {
          "output_type": "stream",
          "name": "stdout",
          "text": [
            "1\n",
            "2\n",
            "3\n"
          ]
        }
      ]
    },
    {
      "cell_type": "code",
      "source": [
        "# prints out 1,2,3\n",
        "for x in mylist:\n",
        "    print(x)"
      ],
      "metadata": {
        "colab": {
          "base_uri": "https://localhost:8080/"
        },
        "id": "XD404DjYWBM3",
        "outputId": "3d0c5cc2-023f-4dc3-dc60-210d74ee4728"
      },
      "execution_count": 37,
      "outputs": [
        {
          "output_type": "stream",
          "name": "stdout",
          "text": [
            "1\n",
            "2\n",
            "3\n"
          ]
        }
      ]
    },
    {
      "cell_type": "code",
      "source": [
        "# Elements can be accessed using indexing: \n",
        "mylist = [1, 2, 3] \n",
        "print (mylist[0])\n",
        "print(mylist[-1]) \n",
        "print(mylist[1:3])"
      ],
      "metadata": {
        "colab": {
          "base_uri": "https://localhost:8080/"
        },
        "id": "T6ePc-1MWDSE",
        "outputId": "b8816e1d-9279-4e09-cc23-3f5fefc64c17"
      },
      "execution_count": 40,
      "outputs": [
        {
          "output_type": "stream",
          "name": "stdout",
          "text": [
            "1\n",
            "3\n",
            "[2, 3]\n"
          ]
        }
      ]
    },
    {
      "cell_type": "markdown",
      "source": [
        "**Accessing an index which does not exist generates an exception (an error).**"
      ],
      "metadata": {
        "id": "5yUSKqdqOiEF"
      }
    },
    {
      "cell_type": "markdown",
      "source": [
        "mylist = [1,2,3]\n",
        "print(mylist[10])"
      ],
      "metadata": {
        "id": "gILtHipTOj6t"
      }
    },
    {
      "cell_type": "markdown",
      "source": [
        "**Exercise**\n",
        "\n",
        "In this exercise, you will need to add numbers and strings to the correct lists using the \"append\" list method. You must add the numbers 1,2, and 3 to the \"numbers\" list, and the words 'hello' and 'world' to the strings variable.\n",
        "\n",
        "You will also have to fill in the variable second_name with the second name in the names list, using the brackets operator []. Note that the index is zero-based, so if you want to access the second item in the list, its index will be 1.\n",
        "\n",
        "The output will be:\n",
        "\n",
        "`[1, 2, 3]`\n",
        "\n",
        "`['hello', 'world']`\n",
        "\n",
        "`The second name on the names list is Eric`"
      ],
      "metadata": {
        "id": "c9sdm8aXPHNK"
      }
    },
    {
      "cell_type": "code",
      "source": [
        "numbers = []\n",
        "strings = []\n",
        "names = [\"John\", \"Eric\", \"Jessica\"]\n",
        "\n",
        "# write your code here\n",
        "second_name = None\n",
        "\n",
        "\n",
        "# this code should write out the filled arrays and the second name in the names list (Eric).\n",
        "print(numbers)\n",
        "print(strings)\n",
        "print(\"The second name on the names list is %s\" % second_name)"
      ],
      "metadata": {
        "id": "qFTkDzOlPNsO"
      },
      "execution_count": null,
      "outputs": []
    },
    {
      "cell_type": "markdown",
      "source": [
        "# Immutuable Objects: Tuple\n",
        "\n",
        "* A tuple in Python is similar to a list. The difference between the two is that we cannot change the elements of a tuple once it is assigned whereas we can change the elements of a list.\n",
        "\n",
        "* A tuple can have any number of items and they may be of different types (integer, float, list, string, etc.)."
      ],
      "metadata": {
        "id": "2Nt_kKQAUutp"
      }
    },
    {
      "cell_type": "code",
      "source": [
        "# Tuple having integers\n",
        "my_tuple = (1, 2, 3)\n",
        "print(my_tuple)\n",
        "\n",
        "# tuple with mixed datatypes\n",
        "my_tuple = (1, \"Hello\", 3.4)\n",
        "print(my_tuple)"
      ],
      "metadata": {
        "colab": {
          "base_uri": "https://localhost:8080/"
        },
        "id": "BDVYquMuU-qf",
        "outputId": "4390573a-29f0-4cc9-ea47-4667ff5cb593"
      },
      "execution_count": 27,
      "outputs": [
        {
          "output_type": "stream",
          "name": "stdout",
          "text": [
            "(1, 2, 3)\n",
            "(1, 'Hello', 3.4)\n"
          ]
        }
      ]
    },
    {
      "cell_type": "markdown",
      "source": [
        "# String Formatting\n",
        "\n",
        "Python uses C-style string formatting to create new, formatted strings. The \"%\" operator is used to format a set of variables enclosed in a \"tuple\" (a fixed size list), together with a format string, which contains normal text together with \"argument specifiers\", special symbols like \"%s\" and \"%d\".\n",
        "\n",
        "Let's say you have a variable called \"name\" with your user name in it, and you would then like to print(out a greeting to that user.)\n"
      ],
      "metadata": {
        "id": "2yBvqzu7UBe4"
      }
    },
    {
      "cell_type": "code",
      "source": [
        "# This prints out \"Hello, John!\"\n",
        "name = \"John\"\n",
        "print(\"Hello, %s!\" %name)"
      ],
      "metadata": {
        "colab": {
          "base_uri": "https://localhost:8080/"
        },
        "id": "bIXV7aHLUVXt",
        "outputId": "d2d108f9-785a-45b3-b18e-6eec3708dfaf"
      },
      "execution_count": 26,
      "outputs": [
        {
          "output_type": "stream",
          "name": "stdout",
          "text": [
            "Hello, John!\n"
          ]
        }
      ]
    },
    {
      "cell_type": "code",
      "source": [
        "# To use two or more argument specifiers, use a tuple (parentheses):\n",
        "# This prints out \"John is 23 years old.\"\n",
        "name = \"John\"\n",
        "age = 23\n",
        "print(\"%s is %d years old.\" % (name, age))"
      ],
      "metadata": {
        "colab": {
          "base_uri": "https://localhost:8080/"
        },
        "id": "VOGfICUtWitA",
        "outputId": "7718c5d9-b182-4425-e72c-5d140deb02a6"
      },
      "execution_count": 43,
      "outputs": [
        {
          "output_type": "stream",
          "name": "stdout",
          "text": [
            "John is 23 years old.\n"
          ]
        }
      ]
    },
    {
      "cell_type": "markdown",
      "source": [
        "Any object which is not a string can be formatted using the %s operator as well. The string which returns from the \"repr\" method of that object is formatted as the string (The repr() method returns a printable representation of the given object.). For example:"
      ],
      "metadata": {
        "id": "8YB0FMIpW_gc"
      }
    },
    {
      "cell_type": "code",
      "source": [
        "# This prints out: A list: [1, 2, 3]\n",
        "mylist = [1,2,3]\n",
        "print(\"A list: %s\" % mylist)"
      ],
      "metadata": {
        "colab": {
          "base_uri": "https://localhost:8080/"
        },
        "id": "rvKs87o2XAWx",
        "outputId": "417f0d65-06c6-47ab-a223-d97005447e0e"
      },
      "execution_count": 44,
      "outputs": [
        {
          "output_type": "stream",
          "name": "stdout",
          "text": [
            "A list: [1, 2, 3]\n"
          ]
        }
      ]
    },
    {
      "cell_type": "markdown",
      "source": [
        "Here are some basic argument specifiers you should know:\n",
        "\n",
        "`%s - String (or any object with a string representation, like numbers)`\n",
        "\n",
        "`%d - Integers`\n",
        "\n",
        "`%f - Floating point numbers`\n",
        "\n",
        "`%.<number of digits>f - Floating point numbers with a fixed amount of digits to the right of the dot.`\n",
        "\n",
        "`%x/%X - Integers in hex representation (lowercase/uppercase)`"
      ],
      "metadata": {
        "id": "dDAcE9P9YZ0V"
      }
    },
    {
      "cell_type": "markdown",
      "source": [
        "**Excercise**\n",
        "\n",
        "You will need to write a format string which prints out the data using the following syntax: \n",
        "\n",
        "`Hello John Doe. Your current balance is $53.44.`"
      ],
      "metadata": {
        "id": "imykEFbkY5qP"
      }
    },
    {
      "cell_type": "code",
      "source": [
        "data = (\"John\", \"Doe\", 53.44)\n",
        "format_string = \"Hello\"\n",
        "\n",
        "print(format_string % data)"
      ],
      "metadata": {
        "colab": {
          "base_uri": "https://localhost:8080/",
          "height": 204
        },
        "id": "dSu8dH96Y2k2",
        "outputId": "b7963373-7cbe-467d-bfe6-22a548363bd6"
      },
      "execution_count": 45,
      "outputs": [
        {
          "output_type": "error",
          "ename": "TypeError",
          "evalue": "ignored",
          "traceback": [
            "\u001b[0;31m---------------------------------------------------------------------------\u001b[0m",
            "\u001b[0;31mTypeError\u001b[0m                                 Traceback (most recent call last)",
            "\u001b[0;32m<ipython-input-45-2fe9ed8ba3b5>\u001b[0m in \u001b[0;36m<module>\u001b[0;34m\u001b[0m\n\u001b[1;32m      2\u001b[0m \u001b[0mformat_string\u001b[0m \u001b[0;34m=\u001b[0m \u001b[0;34m\"Hello\"\u001b[0m\u001b[0;34m\u001b[0m\u001b[0;34m\u001b[0m\u001b[0m\n\u001b[1;32m      3\u001b[0m \u001b[0;34m\u001b[0m\u001b[0m\n\u001b[0;32m----> 4\u001b[0;31m \u001b[0mprint\u001b[0m\u001b[0;34m(\u001b[0m\u001b[0mformat_string\u001b[0m \u001b[0;34m%\u001b[0m \u001b[0mdata\u001b[0m\u001b[0;34m)\u001b[0m\u001b[0;34m\u001b[0m\u001b[0;34m\u001b[0m\u001b[0m\n\u001b[0m",
            "\u001b[0;31mTypeError\u001b[0m: not all arguments converted during string formatting"
          ]
        }
      ]
    },
    {
      "cell_type": "markdown",
      "source": [
        "# Basic String Operations\n",
        "\n",
        "Strings are bits of text. They can be defined as anything between quotes:\n",
        "\n",
        "```\n",
        "astring = \"Hello world!\"\n",
        "astring2 = 'Hello world!'\n",
        "```\n",
        "\n"
      ],
      "metadata": {
        "id": "gHdh3HkoakFx"
      }
    },
    {
      "cell_type": "markdown",
      "source": [
        "As you can see, the first thing you learned was printing a simple sentence. This sentence was stored by Python as a string. However, instead of immediately printing strings out, we will explore the various things you can do to them. You can also use single quotes to assign a string. However, you will face problems if the value to be assigned itself contains single quotes. For example to assign the string in these bracket(single quotes are ' ') you need to use double quotes only like this:"
      ],
      "metadata": {
        "id": "KMYA33JGbtFw"
      }
    },
    {
      "cell_type": "code",
      "source": [
        "astring = \"Hello world!\"\n",
        "print(\"single quotes are ' '\")\n",
        "\n",
        "print(len(astring))"
      ],
      "metadata": {
        "id": "CZnjkrypbubM"
      },
      "execution_count": null,
      "outputs": []
    },
    {
      "cell_type": "markdown",
      "source": [
        "Lets work with some more string methods"
      ],
      "metadata": {
        "id": "7pap_BlKcCep"
      }
    },
    {
      "cell_type": "code",
      "source": [
        "astring = \"Hello world!\"\n",
        "print(astring.index(\"o\"))"
      ],
      "metadata": {
        "id": "MQrXjdsVcGNc"
      },
      "execution_count": null,
      "outputs": []
    },
    {
      "cell_type": "markdown",
      "source": [
        "That prints out 4, because the location of the first occurrence of the letter \"o\" is 4 characters away from the first character. Notice how there are actually two o's in the phrase - this method only recognizes the first.\n",
        "\n",
        "But why didn't it print out 5? Isn't \"o\" the fifth character in the string? To make things more simple, Python (and most other programming languages) start things at 0 instead of 1. So the index of \"o\" is 4."
      ],
      "metadata": {
        "id": "J1vt5lPccIBX"
      }
    },
    {
      "cell_type": "code",
      "source": [
        "astring = \"Hello world!\"\n",
        "print(astring.count(\"l\"))"
      ],
      "metadata": {
        "id": "hzRFK9yhcOKa"
      },
      "execution_count": null,
      "outputs": []
    },
    {
      "cell_type": "code",
      "source": [
        "astring = \"Hello world!\"\n",
        "print(astring[3:7])"
      ],
      "metadata": {
        "id": "rCGgYx0scTxg"
      },
      "execution_count": null,
      "outputs": []
    },
    {
      "cell_type": "markdown",
      "source": [
        "This prints a slice of the string, starting at index 3, and ending at index 6. But why 6 and not 7? Again, most programming languages do this - it makes doing math inside those brackets easier.\n",
        "\n",
        "If you just have one number in the brackets, it will give you the single character at that index. If you leave out the first number but keep the colon, it will give you a slice from the start to the number you left in. If you leave out the second number, it will give you a slice from the first number to the end.\n",
        "\n",
        "You can even put negative numbers inside the brackets. They are an easy way of starting at the end of the string instead of the beginning. This way, -3 means \"3rd character from the end\"."
      ],
      "metadata": {
        "id": "fdF7FgpBcUX1"
      }
    },
    {
      "cell_type": "code",
      "source": [
        "# This prints the characters of string from 3 to 7 skipping one character. \n",
        "# This is extended slice syntax. The general form is [start:stop:step].\n",
        "\n",
        "astring = \"Hello world!\"\n",
        "print(astring[3:7:2])"
      ],
      "metadata": {
        "colab": {
          "base_uri": "https://localhost:8080/"
        },
        "id": "p6UjJVn2dG9j",
        "outputId": "7761f15e-c18f-4217-de8b-a4c051c2c3a5"
      },
      "execution_count": 48,
      "outputs": [
        {
          "output_type": "stream",
          "name": "stdout",
          "text": [
            "l \n"
          ]
        }
      ]
    },
    {
      "cell_type": "code",
      "source": [
        "# What would be the output?\n",
        "\n",
        "astring = \"Hello world!\"\n",
        "print(astring[3:7])\n",
        "print(astring[3:7:1])\n"
      ],
      "metadata": {
        "id": "uWFum6bqdhvN"
      },
      "execution_count": null,
      "outputs": []
    },
    {
      "cell_type": "code",
      "source": [
        "# There is no function like strrev in C to reverse a string. \n",
        "# But with the above mentioned type of slice syntax you can easily reverse a string like this:\n",
        "\n",
        "astring = \"Hello world!\"\n",
        "print(astring[::-1])"
      ],
      "metadata": {
        "colab": {
          "base_uri": "https://localhost:8080/"
        },
        "id": "tD7r5d6pdy38",
        "outputId": "4759093a-155f-4239-bf9c-0c38bcb878d2"
      },
      "execution_count": 49,
      "outputs": [
        {
          "output_type": "stream",
          "name": "stdout",
          "text": [
            "!dlrow olleH\n"
          ]
        }
      ]
    },
    {
      "cell_type": "code",
      "source": [
        "astring = \"Hello world!\"\n",
        "print(astring.upper())\n",
        "print(astring.lower())"
      ],
      "metadata": {
        "colab": {
          "base_uri": "https://localhost:8080/"
        },
        "id": "Kd8OzryJd95r",
        "outputId": "8233d0f6-ae68-40cc-d1cf-957918843c43"
      },
      "execution_count": 50,
      "outputs": [
        {
          "output_type": "stream",
          "name": "stdout",
          "text": [
            "HELLO WORLD!\n",
            "hello world!\n"
          ]
        }
      ]
    },
    {
      "cell_type": "code",
      "source": [
        "astring = \"Hello world!\"\n",
        "print(astring.startswith(\"Hello\"))\n",
        "print(astring.endswith(\"asdfasdfasdf\"))"
      ],
      "metadata": {
        "id": "Gmro8LQceH_4"
      },
      "execution_count": null,
      "outputs": []
    },
    {
      "cell_type": "markdown",
      "source": [
        "astring = \"Hello world!\"\n",
        "print(astring.startswith(\"Hello\"))\n",
        "print(astring.endswith(\"asdfasdfasdf\"))"
      ],
      "metadata": {
        "id": "BmBsrRHPeQ0L"
      }
    },
    {
      "cell_type": "code",
      "source": [
        "astring = \"Hello world!\"\n",
        "afewwords = astring.split(\" \")\n",
        "print(afewwords)"
      ],
      "metadata": {
        "colab": {
          "base_uri": "https://localhost:8080/"
        },
        "id": "NH_gm6l9eUcP",
        "outputId": "72534606-1dbf-41f0-ca64-9418bfa311a0"
      },
      "execution_count": 54,
      "outputs": [
        {
          "output_type": "stream",
          "name": "stdout",
          "text": [
            "['Hello', 'world!']\n"
          ]
        }
      ]
    },
    {
      "cell_type": "markdown",
      "source": [
        "This splits the string into a bunch of strings grouped together in a list. Since this example splits at a space, the first item in the list will be \"Hello\", and the second will be \"world!\"."
      ],
      "metadata": {
        "id": "Uxca_DkPeZEv"
      }
    },
    {
      "cell_type": "markdown",
      "source": [
        "**Exercise**\n",
        "\n",
        "Exercise\n",
        "Try to fix the code to print out the correct information by changing the string."
      ],
      "metadata": {
        "id": "38yN-j3kexGG"
      }
    },
    {
      "cell_type": "code",
      "source": [
        "s = \"Hey there! what should this string be?\"\n",
        "# Length should be 20\n",
        "print(\"Length of s = %d\" % len(s))\n",
        "\n",
        "# First occurrence of \"a\" should be at index 8\n",
        "print(\"The first occurrence of the letter a = %d\" % s.index(\"a\"))\n",
        "\n",
        "# Number of a's should be 2\n",
        "print(\"a occurs %d times\" % s.count(\"a\"))\n",
        "\n",
        "# Slicing the string into bits\n",
        "print(\"The first five characters are '%s'\" % s[:5]) # Start to 5\n",
        "print(\"The next five characters are '%s'\" % s[5:10]) # 5 to 10\n",
        "print(\"The thirteenth character is '%s'\" % s[12]) # Just number 12\n",
        "print(\"The characters with odd index are '%s'\" %s[1::2]) #(0-based indexing)\n",
        "print(\"The last five characters are '%s'\" % s[-5:]) # 5th-from-last to end\n",
        "\n",
        "# Convert everything to uppercase\n",
        "print(\"String in uppercase: %s\" % s.upper())\n",
        "\n",
        "# Convert everything to lowercase\n",
        "print(\"String in lowercase: %s\" % s.lower())\n",
        "\n",
        "# Check how a string starts\n",
        "if s.startswith(\"Str\"):\n",
        "    print(\"String starts with 'Str'. Good!\")\n",
        "\n",
        "# Check how a string ends\n",
        "if s.endswith(\"ome!\"):\n",
        "    print(\"String ends with 'ome!'. Good!\")\n",
        "\n",
        "# Split the string into three separate strings,\n",
        "# each containing only a word\n",
        "print(\"Split the words of the string: %s\" % s.split(\" \"))"
      ],
      "metadata": {
        "id": "cyct26Bue1tq"
      },
      "execution_count": null,
      "outputs": []
    },
    {
      "cell_type": "markdown",
      "source": [
        "# Condition\n",
        "\n",
        "Python uses boolean logic to evaluate conditions. The boolean values True and False are returned when an expression is compared or evaluated."
      ],
      "metadata": {
        "id": "PwO3RPtgoHzR"
      }
    },
    {
      "cell_type": "code",
      "source": [
        "x = 2\n",
        "print(x == 2) # prints out True\n",
        "print(x == 3) # prints out False\n",
        "print(x < 3) # prints out True"
      ],
      "metadata": {
        "id": "u-xEQHeroT06"
      },
      "execution_count": null,
      "outputs": []
    },
    {
      "cell_type": "markdown",
      "source": [
        "Notice that variable assignment is done using a single equals operator \"=\", whereas comparison between two variables is done using the double equals operator \"==\". The \"not equals\" operator is marked as \"!=\"."
      ],
      "metadata": {
        "id": "l7_pMxPwocc0"
      }
    },
    {
      "cell_type": "markdown",
      "source": [
        "**Boolean operators**\n",
        "\n",
        "The \"and\" and \"or\" boolean operators allow building complex boolean expressions, for example:"
      ],
      "metadata": {
        "id": "xB-uxQaeodhS"
      }
    },
    {
      "cell_type": "code",
      "source": [
        "name = \"John\"\n",
        "age = 23\n",
        "if name == \"John\" and age == 23:\n",
        "    print(\"Your name is John, and you are also 23 years old.\")\n",
        "\n",
        "if name == \"John\" or name == \"Rick\":\n",
        "    print(\"Your name is either John or Rick.\")"
      ],
      "metadata": {
        "colab": {
          "base_uri": "https://localhost:8080/"
        },
        "id": "7mhW3QF4ojTv",
        "outputId": "930c5ff5-91c5-48d3-9857-4cfad34ffc46"
      },
      "execution_count": 55,
      "outputs": [
        {
          "output_type": "stream",
          "name": "stdout",
          "text": [
            "Your name is John, and you are also 23 years old.\n",
            "Your name is either John or Rick.\n"
          ]
        }
      ]
    },
    {
      "cell_type": "markdown",
      "source": [
        "**The \"in\" operator**\n",
        "\n",
        "The \"in\" operator could be used to check if a specified object exists within an iterable object container, such as a list:"
      ],
      "metadata": {
        "id": "n7R16zfcor4T"
      }
    },
    {
      "cell_type": "code",
      "source": [
        "name = \"John\"\n",
        "if name in [\"John\", \"Rick\"]:\n",
        "    print(\"Your name is either John or Rick.\")"
      ],
      "metadata": {
        "colab": {
          "base_uri": "https://localhost:8080/"
        },
        "id": "1owVGVFFozXK",
        "outputId": "e7bf8014-2cc3-4ce8-f343-c4542c744e53"
      },
      "execution_count": 56,
      "outputs": [
        {
          "output_type": "stream",
          "name": "stdout",
          "text": [
            "Your name is either John or Rick.\n"
          ]
        }
      ]
    },
    {
      "cell_type": "markdown",
      "source": [
        "Python uses indentation to define code blocks, instead of brackets. The standard Python indentation is 4 spaces, although tabs and any other space size will work, as long as it is consistent. Notice that code blocks do not need any termination.\n",
        "\n",
        "Here is an example for using Python's \"if\" statement using code blocks:"
      ],
      "metadata": {
        "id": "yEAIl_pMo7wW"
      }
    },
    {
      "cell_type": "code",
      "source": [
        "statement = False\n",
        "another_statement = True\n",
        "if statement is True:\n",
        "    # do something\n",
        "    pass\n",
        "elif another_statement is True: # else if\n",
        "    # do something else\n",
        "    pass\n",
        "else:\n",
        "    # do another thing\n",
        "    pass"
      ],
      "metadata": {
        "id": "9zcVcBEBo81k"
      },
      "execution_count": 57,
      "outputs": []
    },
    {
      "cell_type": "code",
      "source": [
        "x = 2\n",
        "if x == 2:\n",
        "    print(\"x equals two!\")\n",
        "else:\n",
        "    print(\"x does not equal to two.\")"
      ],
      "metadata": {
        "colab": {
          "base_uri": "https://localhost:8080/"
        },
        "id": "p43hs7eApEND",
        "outputId": "a14db5ff-b57e-4d8d-da01-a8b600ac06fc"
      },
      "execution_count": 58,
      "outputs": [
        {
          "output_type": "stream",
          "name": "stdout",
          "text": [
            "x equals two!\n"
          ]
        }
      ]
    },
    {
      "cell_type": "markdown",
      "source": [
        "A statement is evaulated as true if one of the following is correct: \n",
        "1. The \"True\" boolean variable is given, or calculated using an expression, such as an arithmetic comparison. \n",
        "2. An object which is not considered \"empty\" is passed.\n",
        "\n",
        "Here are some examples for objects which are considered as empty: \n",
        "1. An empty string: `\"\" `\n",
        "2. An empty list: `[] `\n",
        "3. The number zero: `0 `\n",
        "4. The false boolean variable: `False`"
      ],
      "metadata": {
        "id": "sbzN3XuhpWpY"
      }
    },
    {
      "cell_type": "markdown",
      "source": [
        "**The 'is' operator**\n",
        "\n",
        "**Identity operators**\n",
        "\n",
        "`is` and `is not` are the identity operators in Python. They are used to check if two values (or variables) are located on the same part of the memory. Two variables that are equal does not imply that they are identical.\n",
        "\n",
        "Unlike the double equals operator \"==\", the \"is\" operator does not match the values of the variables, but the instances themselves. For example:\n",
        "\n"
      ],
      "metadata": {
        "id": "JIa_Ts4_pqVz"
      }
    },
    {
      "cell_type": "code",
      "source": [
        "x = [1,2,3]\n",
        "y = [1,2,3]\n",
        "print(x == y) # Prints out True\n",
        "print(x is y) # Prints out False"
      ],
      "metadata": {
        "id": "56eFAaTxpj29"
      },
      "execution_count": null,
      "outputs": []
    },
    {
      "cell_type": "code",
      "source": [
        "x = [\"apple\", \"banana\"]\n",
        "y = [\"apple\", \"banana\"]\n",
        "z = x\n",
        "\n",
        "print(x is z)\n",
        "\n",
        "# returns True because z is the same object as x\n",
        "\n",
        "print(x is y)\n",
        "\n",
        "# returns False because x is not the same object as y, even if they have the same content\n",
        "\n",
        "print(x == y)\n",
        "\n",
        "# to demonstrate the difference betweeen \"is\" and \"==\": this comparison returns True because x is equal to y\n"
      ],
      "metadata": {
        "colab": {
          "base_uri": "https://localhost:8080/"
        },
        "id": "mFZtKeVUqOEZ",
        "outputId": "b0fbc97e-303b-4b3b-93eb-c7c1f13e30a3"
      },
      "execution_count": 60,
      "outputs": [
        {
          "output_type": "stream",
          "name": "stdout",
          "text": [
            "True\n",
            "False\n",
            "True\n"
          ]
        }
      ]
    },
    {
      "cell_type": "markdown",
      "source": [
        "**The \"not\" operator**\n",
        "\n",
        "Using \"not\" before a boolean expression inverts it:"
      ],
      "metadata": {
        "id": "Qncja3kFrEUm"
      }
    },
    {
      "cell_type": "code",
      "source": [
        "print(not False) # Prints out True\n",
        "print((not False) == (False)) # Prints out False"
      ],
      "metadata": {
        "id": "9H0ed_9frBzC"
      },
      "execution_count": null,
      "outputs": []
    },
    {
      "cell_type": "markdown",
      "source": [
        "**Exercise**\n",
        "\n",
        "Change the variables in the first section, so that each if statement resolves as True."
      ],
      "metadata": {
        "id": "dcvAnlP8rMJ7"
      }
    },
    {
      "cell_type": "code",
      "source": [
        "# change this code\n",
        "number = 10\n",
        "second_number = 10\n",
        "first_array = []\n",
        "second_array = [1,2,3]\n",
        "\n",
        "if number > 15:\n",
        "    print(\"1\")\n",
        "\n",
        "if first_array:\n",
        "    print(\"2\")\n",
        "\n",
        "if len(second_array) == 2:\n",
        "    print(\"3\")\n",
        "\n",
        "if len(first_array) + len(second_array) == 5:\n",
        "    print(\"4\")\n",
        "\n",
        "if first_array and first_array[0] == 1:\n",
        "    print(\"5\")\n",
        "\n",
        "if not second_number:\n",
        "    print(\"6\")"
      ],
      "metadata": {
        "id": "ezKxt_VYrPCX"
      },
      "execution_count": null,
      "outputs": []
    },
    {
      "cell_type": "markdown",
      "source": [
        "# Important Links:\n",
        "\n",
        "https://www.learnpython.org\n",
        "\n",
        "https://www.programiz.com/python-programming/operators\n",
        "\n",
        "https://www.programiz.com/python-programming/methods/list\n",
        "\n",
        "https://www.programiz.com/python-programming/methods/dictionary\n",
        "\n",
        "https://www.programiz.com/python-programming/tuple\n",
        "\n"
      ],
      "metadata": {
        "id": "q_g6A2V3R-UO"
      }
    }
  ]
}